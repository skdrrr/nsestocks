{
 "cells": [
  {
   "cell_type": "code",
   "execution_count": 4,
   "metadata": {},
   "outputs": [],
   "source": [
    "import pandas as pd\n",
    "import pickle\n",
    "import numpy as np\n",
    "\n",
    "cap = pd.read_pickle('/home/svdr/nsestocks/Cap/cap.pickle')\n",
    "\n",
    "tradingDays = pd.read_pickle('/home/svdr/main/US/Data/tradingDays.pickle')\n",
    "\n",
    "cap = cap.reindex(tradingDays).fillna(method='bfill')\n",
    "\n",
    "def saveData(df, name):\n",
    "    df.rename_axis(None,axis=1,inplace=True)\n",
    "    df = df.sort_values('Date')\n",
    "    df.to_pickle('/home/svdr/baseData/US/' + name + '.pickle')\n",
    "\n",
    "saveData(cap, 'cap')"
   ]
  },
  {
   "cell_type": "code",
   "execution_count": null,
   "metadata": {},
   "outputs": [],
   "source": []
  }
 ],
 "metadata": {
  "kernelspec": {
   "display_name": "Python 3",
   "language": "python",
   "name": "python3"
  },
  "language_info": {
   "codemirror_mode": {
    "name": "ipython",
    "version": 3
   },
   "file_extension": ".py",
   "mimetype": "text/x-python",
   "name": "python",
   "nbconvert_exporter": "python",
   "pygments_lexer": "ipython3",
   "version": "3.8.2"
  }
 },
 "nbformat": 4,
 "nbformat_minor": 4
}
