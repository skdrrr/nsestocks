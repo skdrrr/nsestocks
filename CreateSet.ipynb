{
 "cells": [
  {
   "cell_type": "code",
   "execution_count": 76,
   "metadata": {},
   "outputs": [],
   "source": [
    "## Take data from pickle and bundle it together to form close.pickle\n",
    "\n",
    "import pandas as pd\n",
    "\n",
    "# List of Stocks\n",
    "NIFTY200_stocks = pd.read_csv(\"/home/svdr/nsestocks/Universe/NIFTY200.csv\")\n",
    "NIFTY200_stocks = NIFTY200_stocks[\"Symbol\"]\n",
    "\n",
    "#for first run, use:\n",
    "close=pd.DataFrame()\n",
    "# close = pd.read_pickle(\"/home/svdr/nsestocks/Data/close.pickle\")\n",
    "\n",
    "for element in NIFTY200_stocks:\n",
    "    current_data = pd.read_pickle(\"/home/svdr/nsestocks/StocksRaw/\"+element+\".pickle\")\n",
    "    row_data = current_data[[\"Close\"]].rename(columns={\"Close\":element})\n",
    "    if len(close)==0:\n",
    "        close = close.append(row_data)\n",
    "    else:\n",
    "        try:\n",
    "            close = close.join(row_data, how=\"outer\")\n",
    "        except:\n",
    "            print(\"nu a functionat cu\",element)\n",
    "            \n",
    "close.to_pickle(\"/home/svdr/nsestocks/Data/close.pickle\")"
   ]
  }
 ],
 "metadata": {
  "kernelspec": {
   "display_name": "Python 3",
   "language": "python",
   "name": "python3"
  },
  "language_info": {
   "codemirror_mode": {
    "name": "ipython",
    "version": 3
   },
   "file_extension": ".py",
   "mimetype": "text/x-python",
   "name": "python",
   "nbconvert_exporter": "python",
   "pygments_lexer": "ipython3",
   "version": "3.7.3"
  }
 },
 "nbformat": 4,
 "nbformat_minor": 2
}
