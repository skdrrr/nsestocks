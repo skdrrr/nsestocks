{
 "cells": [
  {
   "cell_type": "code",
   "execution_count": 1,
   "metadata": {},
   "outputs": [],
   "source": [
    "import pandas as pd\n",
    "\n"
   ]
  },
  {
   "cell_type": "code",
   "execution_count": 2,
   "metadata": {},
   "outputs": [
    {
     "ename": "NameError",
     "evalue": "name 'element' is not defined",
     "output_type": "error",
     "traceback": [
      "\u001b[0;31m---------------------------------------------------------------------------\u001b[0m",
      "\u001b[0;31mNameError\u001b[0m                                 Traceback (most recent call last)",
      "\u001b[0;32m<ipython-input-2-06d324bb1f32>\u001b[0m in \u001b[0;36m<module>\u001b[0;34m\u001b[0m\n\u001b[0;32m----> 1\u001b[0;31m \u001b[0mcurrent_data\u001b[0m \u001b[0;34m=\u001b[0m \u001b[0mpd\u001b[0m\u001b[0;34m.\u001b[0m\u001b[0mread_pickle\u001b[0m\u001b[0;34m(\u001b[0m\u001b[0;34m\"/home/svdr/nsestocks/StocksRaw/\"\u001b[0m\u001b[0;34m+\u001b[0m\u001b[0melement\u001b[0m\u001b[0;34m+\u001b[0m\u001b[0;34m\".pickle\"\u001b[0m\u001b[0;34m)\u001b[0m\u001b[0;34m\u001b[0m\u001b[0;34m\u001b[0m\u001b[0m\n\u001b[0m",
      "\u001b[0;31mNameError\u001b[0m: name 'element' is not defined"
     ]
    }
   ],
   "source": [
    "current_data = pd.read_pickle(\"/home/svdr/nsestocks/StocksRaw/\"+element+\".pickle\")"
   ]
  },
  {
   "cell_type": "code",
   "execution_count": 3,
   "metadata": {},
   "outputs": [],
   "source": [
    "import pandas as pd\n",
    "\n",
    "# List of Stocks\n",
    "NIFTY200_stocks = pd.read_csv(\"/home/svdr/nsestocks/Universe/NIFTY200.csv\")\n",
    "NIFTY200_stocks = NIFTY200_stocks[\"Symbol\"]"
   ]
  },
  {
   "cell_type": "code",
   "execution_count": null,
   "metadata": {},
   "outputs": [],
   "source": [
    "import pandas as pd\n",
    "\n",
    "# List of Stocks\n",
    "NIFTY200_stocks = pd.read_csv(\"/home/svdr/nsestocks/Universe/NIFTY200.csv\")\n",
    "NIFTY200_stocks = NIFTY200_stocks[\"Symbol\"]\n",
    "\n",
    "#Update data:\n",
    "for element in NIFTY200_stocks:\n",
    "    current_data = pd.read_pickle(\"/home/svdr/nsestocks/StocksRaw/\"+element+\".pickle\")\n",
    "        last_day = current_data.index.max()\n",
    "        #extract\n",
    "        if last_day!=date.today():\n",
    "            data = get_history(symbol=element, start=last_day, end=date.today())\n",
    "            current_data = current_data.append(data)\n",
    "            #remove duplicates\n",
    "            current_data = current_data.loc[~current_data.index.duplicated(keep='first')]\n",
    "            #save\n",
    "            current_data.to_pickle(\"/home/svdr/nsestocks/StocksRaw/\"+element+\".pickle\")\n",
    "            print(element,\" done\")\n",
    "        else: \n",
    "            print(element,\"already up to date\")\n",
    "    except:\n",
    "        try:\n",
    "            data = get_history(symbol=element, start=date(2008,1,1), end=date.today())\n",
    "            data[\"Symbol\"]=element\n",
    "            data.to_pickle(\"/home/svdr/nsestocks/StocksRaw/\"+element+\".pickle\")\n",
    "        except:\n",
    "            print(element,\"NOT AVAILABLE\")\n",
    "            linie = {\"Company\":element}\n",
    "            NotAvailable = NotAvailable.append(linie, ignore_index=True)\n",
    "\n"
   ]
  }
 ],
 "metadata": {
  "kernelspec": {
   "display_name": "Python 3",
   "language": "python",
   "name": "python3"
  },
  "language_info": {
   "codemirror_mode": {
    "name": "ipython",
    "version": 3
   },
   "file_extension": ".py",
   "mimetype": "text/x-python",
   "name": "python",
   "nbconvert_exporter": "python",
   "pygments_lexer": "ipython3",
   "version": "3.7.3"
  }
 },
 "nbformat": 4,
 "nbformat_minor": 2
}
